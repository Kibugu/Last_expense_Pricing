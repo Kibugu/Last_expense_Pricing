{
 "cells": [
  {
   "cell_type": "markdown",
   "id": "050a46b8",
   "metadata": {},
   "source": [
    "\n",
    " \n",
    "# <u><font color = \"brown\" /> PRICING THE LAST EXPENSE BASED ON BOOK PERFOMANCE.</u>\n",
    "\n",
    "**<u><font color = 'blue' /> Prepared by Pricing Team**</u>"
   ]
  },
  {
   "cell_type": "markdown",
   "id": "5a1e5e4c",
   "metadata": {},
   "source": [
    "### <font color = blue /> The objective of the above model is to achieve the  follows:\n",
    "Using the current loss ratio for the corporate book we are working to achieve the following.\n",
    "\n",
    "1. Price the last expense based on the perfomance to manage the loss ratio.\n",
    "2. Uniform pricing for product with the same attributed\n",
    "3. Monthly adjustment of prices based on new book perfomance.\n"
   ]
  },
  {
   "cell_type": "markdown",
   "id": "10a1b352",
   "metadata": {},
   "source": [
    "#### 1.1 Importing data"
   ]
  },
  {
   "cell_type": "markdown",
   "id": "5b896a19",
   "metadata": {},
   "source": [
    "**1.1.1 - importing directly using ms access data**"
   ]
  },
  {
   "cell_type": "markdown",
   "id": "575bb832",
   "metadata": {},
   "source": [
    "**1.1.2 - Export directly form access to csv files then load it.**"
   ]
  },
  {
   "cell_type": "code",
   "execution_count": 1,
   "id": "0ae83ccc",
   "metadata": {},
   "outputs": [],
   "source": [
    "# import libraries\n",
    "import pandas as pd\n",
    "import numpy as np\n",
    "import matplotlib.pyplot as plt\n",
    "import seaborn as sns\n",
    "import warnings\n",
    "warnings.filterwarnings(\"ignore\")"
   ]
  },
  {
   "cell_type": "code",
   "execution_count": 2,
   "id": "6713d949",
   "metadata": {},
   "outputs": [
    {
     "data": {
      "text/html": [
       "<div>\n",
       "<style scoped>\n",
       "    .dataframe tbody tr th:only-of-type {\n",
       "        vertical-align: middle;\n",
       "    }\n",
       "\n",
       "    .dataframe tbody tr th {\n",
       "        vertical-align: top;\n",
       "    }\n",
       "\n",
       "    .dataframe thead th {\n",
       "        text-align: right;\n",
       "    }\n",
       "</style>\n",
       "<table border=\"1\" class=\"dataframe\">\n",
       "  <thead>\n",
       "    <tr style=\"text-align: right;\">\n",
       "      <th></th>\n",
       "      <th>Policy_number</th>\n",
       "      <th>Scheme Name</th>\n",
       "      <th>RENEWAL DATE</th>\n",
       "      <th>Intermediary</th>\n",
       "      <th>Channel</th>\n",
       "      <th>Premium</th>\n",
       "      <th>Claim_amount</th>\n",
       "      <th>benefit</th>\n",
       "      <th>No_of_claims</th>\n",
       "      <th>Claim_ratio</th>\n",
       "      <th>Population</th>\n",
       "      <th>Average_age</th>\n",
       "      <th>Famsize</th>\n",
       "      <th>Occupation</th>\n",
       "      <th>Single_multiple</th>\n",
       "      <th>Rate_Applied</th>\n",
       "    </tr>\n",
       "  </thead>\n",
       "  <tbody>\n",
       "    <tr>\n",
       "      <th>0</th>\n",
       "      <td>1</td>\n",
       "      <td>AHS 82/84</td>\n",
       "      <td>01-09-20</td>\n",
       "      <td>Stanbic Insurance Agency</td>\n",
       "      <td>bancassurance</td>\n",
       "      <td>158000</td>\n",
       "      <td>400000</td>\n",
       "      <td>200000</td>\n",
       "      <td>2</td>\n",
       "      <td>2.53</td>\n",
       "      <td>26</td>\n",
       "      <td>55</td>\n",
       "      <td>Extended</td>\n",
       "      <td>Welfare</td>\n",
       "      <td>Single</td>\n",
       "      <td>20.0</td>\n",
       "    </tr>\n",
       "    <tr>\n",
       "      <th>1</th>\n",
       "      <td>2</td>\n",
       "      <td>HANSARD</td>\n",
       "      <td>01-09-20</td>\n",
       "      <td>Stanbic Insurance Agency</td>\n",
       "      <td>bancassurance</td>\n",
       "      <td>64000</td>\n",
       "      <td>100000</td>\n",
       "      <td>200000</td>\n",
       "      <td>1</td>\n",
       "      <td>1.56</td>\n",
       "      <td>32</td>\n",
       "      <td>38</td>\n",
       "      <td>Extended</td>\n",
       "      <td>Welfare</td>\n",
       "      <td>Single</td>\n",
       "      <td>20.0</td>\n",
       "    </tr>\n",
       "    <tr>\n",
       "      <th>2</th>\n",
       "      <td>3</td>\n",
       "      <td>NANYUKI CENTRAL SDA</td>\n",
       "      <td>01-09-20</td>\n",
       "      <td>Stanbic Insurance Agency</td>\n",
       "      <td>bancassurance</td>\n",
       "      <td>42500</td>\n",
       "      <td>100000</td>\n",
       "      <td>200000</td>\n",
       "      <td>1</td>\n",
       "      <td>2.35</td>\n",
       "      <td>21</td>\n",
       "      <td>46</td>\n",
       "      <td>Extended</td>\n",
       "      <td>Welfare</td>\n",
       "      <td>Single</td>\n",
       "      <td>20.0</td>\n",
       "    </tr>\n",
       "    <tr>\n",
       "      <th>3</th>\n",
       "      <td>4</td>\n",
       "      <td>NIFTY INVESTMENT</td>\n",
       "      <td>01-09-20</td>\n",
       "      <td>Stanbic Insurance Agency</td>\n",
       "      <td>bancassurance</td>\n",
       "      <td>36000</td>\n",
       "      <td>100000</td>\n",
       "      <td>200000</td>\n",
       "      <td>1</td>\n",
       "      <td>2.78</td>\n",
       "      <td>18</td>\n",
       "      <td>47</td>\n",
       "      <td>Extended</td>\n",
       "      <td>Welfare</td>\n",
       "      <td>Single</td>\n",
       "      <td>20.0</td>\n",
       "    </tr>\n",
       "    <tr>\n",
       "      <th>4</th>\n",
       "      <td>5</td>\n",
       "      <td>SIAL</td>\n",
       "      <td>01-09-20</td>\n",
       "      <td>Stanbic Insurance Agency</td>\n",
       "      <td>bancassurance</td>\n",
       "      <td>260000</td>\n",
       "      <td>650000</td>\n",
       "      <td>200000</td>\n",
       "      <td>3</td>\n",
       "      <td>2.50</td>\n",
       "      <td>140</td>\n",
       "      <td>43</td>\n",
       "      <td>Extended</td>\n",
       "      <td>Welfare</td>\n",
       "      <td>Single</td>\n",
       "      <td>20.0</td>\n",
       "    </tr>\n",
       "  </tbody>\n",
       "</table>\n",
       "</div>"
      ],
      "text/plain": [
       "   Policy_number          Scheme Name RENEWAL DATE              Intermediary  \\\n",
       "0              1            AHS 82/84     01-09-20  Stanbic Insurance Agency   \n",
       "1              2              HANSARD     01-09-20  Stanbic Insurance Agency   \n",
       "2              3  NANYUKI CENTRAL SDA     01-09-20  Stanbic Insurance Agency   \n",
       "3              4     NIFTY INVESTMENT     01-09-20  Stanbic Insurance Agency   \n",
       "4              5                 SIAL     01-09-20  Stanbic Insurance Agency   \n",
       "\n",
       "         Channel  Premium  Claim_amount  benefit  No_of_claims  Claim_ratio  \\\n",
       "0  bancassurance   158000        400000   200000             2         2.53   \n",
       "1  bancassurance    64000        100000   200000             1         1.56   \n",
       "2  bancassurance    42500        100000   200000             1         2.35   \n",
       "3  bancassurance    36000        100000   200000             1         2.78   \n",
       "4  bancassurance   260000        650000   200000             3         2.50   \n",
       "\n",
       "   Population  Average_age   Famsize Occupation Single_multiple  Rate_Applied  \n",
       "0          26           55  Extended    Welfare          Single          20.0  \n",
       "1          32           38  Extended    Welfare          Single          20.0  \n",
       "2          21           46  Extended    Welfare          Single          20.0  \n",
       "3          18           47  Extended    Welfare          Single          20.0  \n",
       "4         140           43  Extended    Welfare          Single          20.0  "
      ]
     },
     "execution_count": 2,
     "metadata": {},
     "output_type": "execute_result"
    }
   ],
   "source": [
    "data=pd.read_csv('Last Expense.csv')\n",
    "data.head()"
   ]
  },
  {
   "cell_type": "code",
   "execution_count": 3,
   "id": "6d4e2f7f",
   "metadata": {},
   "outputs": [
    {
     "name": "stdout",
     "output_type": "stream",
     "text": [
      "Size of dataset (74, 16)\n"
     ]
    }
   ],
   "source": [
    "print(\"Size of dataset\",data.shape)"
   ]
  },
  {
   "cell_type": "code",
   "execution_count": 4,
   "id": "7b2a5dcc",
   "metadata": {},
   "outputs": [],
   "source": [
    "from sklearn.compose import make_column_selector as selector\n",
    "\n",
    "numerical_columns_selector = selector(dtype_exclude=object)\n",
    "categorical_columns_selector = selector(dtype_include=object)\n",
    "\n",
    "numerical_columns = numerical_columns_selector(data)\n",
    "categorical_columns = categorical_columns_selector(data)"
   ]
  },
  {
   "cell_type": "code",
   "execution_count": 5,
   "id": "24b83653",
   "metadata": {},
   "outputs": [
    {
     "data": {
      "text/plain": [
       "(74, 7)"
      ]
     },
     "execution_count": 5,
     "metadata": {},
     "output_type": "execute_result"
    }
   ],
   "source": [
    "# based on the below we only have o\n",
    "data_categorical = data[categorical_columns]\n",
    "\n",
    "data_categorical.shape"
   ]
  },
  {
   "cell_type": "markdown",
   "id": "c443bd75",
   "metadata": {},
   "source": [
    "Based on the above we dont have any columns with categorical data."
   ]
  },
  {
   "cell_type": "code",
   "execution_count": 6,
   "id": "bb932ecd",
   "metadata": {},
   "outputs": [
    {
     "data": {
      "text/plain": [
       "(74, 9)"
      ]
     },
     "execution_count": 6,
     "metadata": {},
     "output_type": "execute_result"
    }
   ],
   "source": [
    "data_numerical = data[numerical_columns]\n",
    "\n",
    "data_numerical.shape"
   ]
  },
  {
   "cell_type": "markdown",
   "id": "c4248500",
   "metadata": {},
   "source": [
    "### 2. Explanatory Data Analysis(EDA)"
   ]
  },
  {
   "cell_type": "code",
   "execution_count": 7,
   "id": "8c7bcdcf",
   "metadata": {},
   "outputs": [],
   "source": [
    "from sklearn.compose import make_column_selector as selector\n",
    "\n",
    "numerical_columns_selector = selector(dtype_exclude=object)\n",
    "categorical_columns_selector = selector(dtype_include=object)\n",
    "\n",
    "numerical_columns = numerical_columns_selector(data)\n",
    "categorical_columns = categorical_columns_selector(data)"
   ]
  },
  {
   "cell_type": "code",
   "execution_count": 8,
   "id": "cd59c8f5",
   "metadata": {},
   "outputs": [
    {
     "name": "stdout",
     "output_type": "stream",
     "text": [
      "The categorical columns are  ['Scheme Name', 'RENEWAL DATE', 'Intermediary', 'Channel', 'Famsize', 'Occupation', 'Single_multiple']\n",
      "The numerical columns are  ['Policy_number', 'Premium', 'Claim_amount', 'benefit', 'No_of_claims', 'Claim_ratio', 'Population', 'Average_age', 'Rate_Applied']\n"
     ]
    }
   ],
   "source": [
    "print('The categorical columns are ',categorical_columns)\n",
    "\n",
    "print('The numerical columns are ',numerical_columns)"
   ]
  },
  {
   "cell_type": "code",
   "execution_count": 9,
   "id": "d4cdad55",
   "metadata": {},
   "outputs": [],
   "source": [
    "categorical_columns=data[['RENEWAL DATE', 'Intermediary', 'Channel','Famsize', 'Single_multiple' ]]"
   ]
  },
  {
   "cell_type": "code",
   "execution_count": 10,
   "id": "ba814232",
   "metadata": {},
   "outputs": [
    {
     "data": {
      "image/png": "[encoded data removed]",
      "text/plain": [
       "<Figure size 432x288 with 1 Axes>"
      ]
     },
     "metadata": {
      "needs_background": "light"
     },
     "output_type": "display_data"
    },
    {
     "data": {
      "image/png": "[encoded data removed]",
      "text/plain": [
       "<Figure size 432x288 with 1 Axes>"
      ]
     },
     "metadata": {
      "needs_background": "light"
     },
     "output_type": "display_data"
    },
    {
     "data": {
      "image/png": "[encoded data removed]",
      "text/plain": [
       "<Figure size 432x288 with 1 Axes>"
      ]
     },
     "metadata": {
      "needs_background": "light"
     },
     "output_type": "display_data"
    },
    {
     "data": {
      "image/png": "[encoded data removed]",
      "text/plain": [
       "<Figure size 432x288 with 1 Axes>"
      ]
     },
     "metadata": {
      "needs_background": "light"
     },
     "output_type": "display_data"
    },
    {
     "data": {
      "image/png": "[encoded data removed]",
      "text/plain": [
       "<Figure size 432x288 with 1 Axes>"
      ]
     },
     "metadata": {
      "needs_background": "light"
     },
     "output_type": "display_data"
    }
   ],
   "source": [
    "for i in categorical_columns:\n",
    "    data[i].hist(bins=25)\n",
    "    plt.xlabel(i)\n",
    "    plt.ylabel('count')\n",
    "    plt.show()"
   ]
  },
  {
   "cell_type": "code",
   "execution_count": 11,
   "id": "2a7fddd2",
   "metadata": {},
   "outputs": [],
   "source": [
    "numerical_columns=data[['benefit', 'No_of_claims', 'Claim_ratio', 'Population', 'Average_age', 'Rate_Applied']]"
   ]
  },
  {
   "cell_type": "code",
   "execution_count": 12,
   "id": "bd540eed",
   "metadata": {},
   "outputs": [
    {
     "data": {
      "image/png": "[encoded data removed]",
      "text/plain": [
       "<Figure size 432x288 with 1 Axes>"
      ]
     },
     "metadata": {
      "needs_background": "light"
     },
     "output_type": "display_data"
    },
    {
     "data": {
      "image/png": "[encoded data removed]",
      "text/plain": [
       "<Figure size 432x288 with 1 Axes>"
      ]
     },
     "metadata": {
      "needs_background": "light"
     },
     "output_type": "display_data"
    },
    {
     "data": {
      "image/png": "[encoded data removed]",
      "text/plain": [
       "<Figure size 432x288 with 1 Axes>"
      ]
     },
     "metadata": {
      "needs_background": "light"
     },
     "output_type": "display_data"
    },
    {
     "data": {
      "image/png": "[encoded data removed]",
      "text/plain": [
       "<Figure size 432x288 with 1 Axes>"
      ]
     },
     "metadata": {
      "needs_background": "light"
     },
     "output_type": "display_data"
    },
    {
     "data": {
      "image/png": "[encoded data removed]",
      "text/plain": [
       "<Figure size 432x288 with 1 Axes>"
      ]
     },
     "metadata": {
      "needs_background": "light"
     },
     "output_type": "display_data"
    },
    {
     "data": {
      "image/png": "[encoded data removed]",
      "text/plain": [
       "<Figure size 432x288 with 1 Axes>"
      ]
     },
     "metadata": {
      "needs_background": "light"
     },
     "output_type": "display_data"
    }
   ],
   "source": [
    "for i in numerical_columns:\n",
    "    data[i].hist(bins=25)\n",
    "    plt.xlabel(i)\n",
    "    plt.ylabel('count')\n",
    "    plt.show()"
   ]
  },
  {
   "cell_type": "code",
   "execution_count": 13,
   "id": "169867a9",
   "metadata": {},
   "outputs": [
    {
     "data": {
      "image/png": "[encoded data removed]",
      "text/plain": [
       "<Figure size 864x360 with 2 Axes>"
      ]
     },
     "metadata": {},
     "output_type": "display_data"
    }
   ],
   "source": [
    "# Distribution of the target variable\n",
    "%matplotlib inline\n",
    "fig = plt.figure(figsize=(12, 5))\n",
    "plt.subplot(121)\n",
    "data[\"Rate_Applied\"].value_counts().plot.pie(autopct = \"%1.0f%%\",colors = sns.color_palette(\"prism\",7),\n",
    "                                                                             startangle = 60,\n",
    "                                            wedgeprops={\"linewidth\":2,\"edgecolor\":\"k\"},\n",
    "                                            shadow =True)\n",
    "plt.title(\"Distribution of target variable\")\n",
    "\n",
    "plt.subplot(122)\n",
    "ax = data[\"Rate_Applied\"].value_counts().plot(kind=\"barh\")\n",
    "\n",
    "for i,j in enumerate(data[\"Rate_Applied\"].value_counts().values):\n",
    "    ax.text(.7,i,j,weight = \"bold\",fontsize=20)\n",
    "\n",
    "plt.title(\"Count of target variable\")\n",
    "#ax.set_facecolor(\"k\")\n",
    "fig.set_facecolor(\"lightgrey\")\n",
    "plt.show()"
   ]
  },
  {
   "cell_type": "code",
   "execution_count": 14,
   "id": "a7f66537",
   "metadata": {},
   "outputs": [
    {
     "data": {
      "text/plain": [
       "<seaborn.axisgrid.FacetGrid at 0x208772ec9d0>"
      ]
     },
     "execution_count": 14,
     "metadata": {},
     "output_type": "execute_result"
    },
    {
     "data": {
      "image/png": "[encoded data removed]",
      "text/plain": [
       "<Figure size 937.375x216 with 1 Axes>"
      ]
     },
     "metadata": {
      "needs_background": "light"
     },
     "output_type": "display_data"
    }
   ],
   "source": [
    "#plot distributions of age of passengers who survived or did not survive\n",
    "a = sns.FacetGrid( data, hue = 'Rate_Applied', aspect=4 )\n",
    "a.map(sns.kdeplot, 'Average_age', shade= True )\n",
    "a.set(xlim=(0 , data['Average_age'].max()))\n",
    "a.add_legend()"
   ]
  },
  {
   "cell_type": "code",
   "execution_count": 15,
   "id": "d30f5042",
   "metadata": {},
   "outputs": [
    {
     "data": {
      "text/plain": [
       "<seaborn.axisgrid.FacetGrid at 0x208772bd940>"
      ]
     },
     "execution_count": 15,
     "metadata": {},
     "output_type": "execute_result"
    },
    {
     "data": {
      "image/png": "[encoded data removed]",
      "text/plain": [
       "<Figure size 937.375x216 with 1 Axes>"
      ]
     },
     "metadata": {
      "needs_background": "light"
     },
     "output_type": "display_data"
    }
   ],
   "source": [
    "#plot distributions of age of passengers who survived or did not survive\n",
    "a = sns.FacetGrid( data, hue = 'Rate_Applied', aspect=4 )\n",
    "a.map(sns.kdeplot, 'Claim_ratio', shade= True )\n",
    "a.set(xlim=(0 , data['Claim_ratio'].max()))\n",
    "a.add_legend()"
   ]
  },
  {
   "cell_type": "code",
   "execution_count": null,
   "id": "645b5b1d",
   "metadata": {},
   "outputs": [
    {
     "data": {
      "text/plain": [
       "<seaborn.axisgrid.PairGrid at 0x208775edc10>"
      ]
     },
     "execution_count": 16,
     "metadata": {},
     "output_type": "execute_result"
    }
   ],
   "source": [
    "#pair plots of entire dataset\n",
    "pp = sns.pairplot(data, hue = 'Rate_Applied', palette = 'deep', size=1.2, diag_kind = 'kde', diag_kws=dict(shade=True), plot_kws=dict(s=10) )\n",
    "pp.set(xticklabels=[])"
   ]
  },
  {
   "cell_type": "markdown",
   "id": "f01aa136",
   "metadata": {},
   "source": [
    "### 3. DATA CLEANING"
   ]
  },
  {
   "cell_type": "code",
   "execution_count": null,
   "id": "0d3d9fce",
   "metadata": {},
   "outputs": [],
   "source": [
    "data.isnull().sum()"
   ]
  },
  {
   "cell_type": "code",
   "execution_count": null,
   "id": "40d3bf22",
   "metadata": {},
   "outputs": [],
   "source": [
    "# Checking the duplication.\n",
    "data.duplicated().sum()"
   ]
  },
  {
   "cell_type": "code",
   "execution_count": null,
   "id": "e73e3b25",
   "metadata": {},
   "outputs": [],
   "source": [
    "# if in the following columns there is a nan we assume the scheme does not have any claim reported todate.\n",
    "\n",
    "data['Claim_amount']=data['Claim_amount'].fillna(0)\n",
    "data['No_of_claims']=data['No_of_claims'].fillna(0)"
   ]
  },
  {
   "cell_type": "code",
   "execution_count": null,
   "id": "2ced369f",
   "metadata": {},
   "outputs": [],
   "source": [
    "# incase the scheme average age is not indicated we used mean or k means \n",
    "data[ 'Average_age']=data['Average_age'].fillna(value=data['Average_age'].mean())"
   ]
  },
  {
   "cell_type": "code",
   "execution_count": null,
   "id": "c6b04981",
   "metadata": {},
   "outputs": [],
   "source": [
    "# We test the missing value with more than 50% we drop the column.\n",
    "df_null_per=data.isnull().sum()/len(data)*100\n",
    "df_null_per.sort_values(ascending = False)"
   ]
  },
  {
   "cell_type": "code",
   "execution_count": null,
   "id": "cd0b567c",
   "metadata": {},
   "outputs": [],
   "source": [
    "# Convert the column in date and extract months.\n",
    "import datetime as dt\n",
    "data['RENEWAL DATE'] = pd.to_datetime(data['RENEWAL DATE'])\n",
    "data['Month'] = data['RENEWAL DATE'].dt.month\n",
    "data['Day']=data['RENEWAL DATE'].dt.day\n",
    "data['Year']=data['RENEWAL DATE'].dt.year"
   ]
  },
  {
   "cell_type": "code",
   "execution_count": null,
   "id": "e0480ae9",
   "metadata": {},
   "outputs": [],
   "source": [
    "data = data.drop(['RENEWAL DATE'],axis=1)"
   ]
  },
  {
   "cell_type": "markdown",
   "id": "62d9b2bc",
   "metadata": {},
   "source": [
    "### 3. Feature Engineering:"
   ]
  },
  {
   "cell_type": "code",
   "execution_count": null,
   "id": "cc7d7368",
   "metadata": {},
   "outputs": [],
   "source": [
    "data.describe()"
   ]
  },
  {
   "cell_type": "markdown",
   "id": "ff3d0627",
   "metadata": {},
   "source": [
    "We will separate categorical and numerical variables using their data types to identify them, as we saw previously that object corresponds to categorical columns (strings). We make use of make_column_selector helper to select the corresponding columns."
   ]
  },
  {
   "cell_type": "code",
   "execution_count": null,
   "id": "faa2bab8",
   "metadata": {},
   "outputs": [],
   "source": [
    "# Converge the months to quarter.\n",
    "\n",
    "def quarter(row):\n",
    "    \"\"\" segmenting the data into quarter.\n",
    "    \n",
    "    \"\"\"\n",
    "    if row['Month'] < 3:\n",
    "        return '1st Quarter'\n",
    "    elif row['Month'] >= 3 and row['Month'] < 6:\n",
    "        return '2nd Quarter'\n",
    "    elif row['Month'] >= 6 and row['Month'] < 9:\n",
    "        return '3rd Quarter'\n",
    "    else:\n",
    "        return '4th Quarter'\n",
    "data['Quarter'] = data.apply(quarter, axis=1)"
   ]
  },
  {
   "cell_type": "markdown",
   "id": "67c00a83",
   "metadata": {},
   "source": [
    "one-hot encoding will be applied to categorical columns. Besides, we use handle_unknown=\"ignore\" to solve the potential issues due to rare categories.\n",
    "numerical scaling numerical features which will be standardized."
   ]
  },
  {
   "cell_type": "code",
   "execution_count": null,
   "id": "a9799b43",
   "metadata": {},
   "outputs": [],
   "source": [
    "# Converge the months to quarter.\n",
    "\n",
    "def Rate_Applied(row):\n",
    "    \"\"\" segmenting the data into quarter.\n",
    "    \n",
    "    \"\"\"\n",
    "    if row['Rate_Applied'] < 16:\n",
    "        return 15\n",
    "    elif row['Rate_Applied'] >= 16 and row['Rate_Applied'] < 21:\n",
    "        return 20\n",
    "    elif row['Rate_Applied'] >= 21 and row['Rate_Applied'] < 26:\n",
    "        return 25\n",
    "    elif row['Rate_Applied'] >= 26 and row['Rate_Applied'] < 31:\n",
    "        return 30\n",
    "    else:\n",
    "        return 40\n",
    "data['Rate_Applied'] = data.apply(Rate_Applied, axis=1)"
   ]
  },
  {
   "cell_type": "code",
   "execution_count": null,
   "id": "fafececf",
   "metadata": {},
   "outputs": [],
   "source": [
    "data.Rate_Applied.nunique()"
   ]
  },
  {
   "cell_type": "code",
   "execution_count": null,
   "id": "90362a4a",
   "metadata": {},
   "outputs": [],
   "source": [
    "def Rate_Applied(row): \n",
    "    \n",
    "    \"\"\" We are trying to introduce loading on scheme those loss ratio is greater than 65%.\n",
    "    \n",
    "    Loss Ratio:\n",
    "        If the loss ratio is   Claim Ratio           Loading applied\n",
    "                             500% and above.         100%\n",
    "                             200% < X < 499%         50% \n",
    "                             150% < X < 199%         40%\n",
    "                             120% < X < 149%         30%\n",
    "                             100% < X < 119%         20%\n",
    "                             65%  < X < 99%          10%       \n",
    "    \"\"\"\n",
    "    \n",
    "    if row['Claim_ratio'] >= 5.0:\n",
    "        return row['Rate_Applied']*2.0\n",
    "    \n",
    "    elif row['Claim_ratio'] >= 2.0:\n",
    "        return row['Rate_Applied']*1.5\n",
    "    \n",
    "    elif row['Claim_ratio'] >= 1.5:\n",
    "        return row['Rate_Applied']*1.4\n",
    "    \n",
    "    elif row['Claim_ratio'] >= 1.2:\n",
    "        return row['Rate_Applied']*1.3\n",
    "    \n",
    "    elif row['Claim_ratio'] >= 1.0:\n",
    "        return row['Rate_Applied']*1.2\n",
    "    \n",
    "    elif row['Claim_ratio'] >= 0.65:\n",
    "        return row['Rate_Applied']*1.1\n",
    "    \n",
    "    else:\n",
    "        return row['Rate_Applied']*1.0\n",
    "data['Rate_Applied'] = data.apply(Rate_Applied, axis=1)"
   ]
  },
  {
   "cell_type": "code",
   "execution_count": null,
   "id": "ada8d9e3",
   "metadata": {},
   "outputs": [],
   "source": [
    "data['Rate_Applied'].mean()"
   ]
  },
  {
   "cell_type": "code",
   "execution_count": null,
   "id": "6f509d26",
   "metadata": {},
   "outputs": [],
   "source": [
    "data['Single_multiple'].unique()"
   ]
  },
  {
   "cell_type": "code",
   "execution_count": null,
   "id": "a057024c",
   "metadata": {},
   "outputs": [],
   "source": [
    "data['Channel'].unique()"
   ]
  },
  {
   "cell_type": "code",
   "execution_count": null,
   "id": "63bd7a96",
   "metadata": {},
   "outputs": [],
   "source": [
    "data['Famsize'].unique()"
   ]
  },
  {
   "cell_type": "code",
   "execution_count": null,
   "id": "8496eb92",
   "metadata": {},
   "outputs": [],
   "source": [
    "data['Occupation'].unique()"
   ]
  },
  {
   "cell_type": "code",
   "execution_count": null,
   "id": "6230fb57",
   "metadata": {},
   "outputs": [],
   "source": [
    "data= data.drop(columns = ['Premium','Scheme Name','Intermediary','Policy_number','Day','Quarter','Policy_number','Year','No_of_claims','Claim_amount'], axis = 1)"
   ]
  },
  {
   "cell_type": "code",
   "execution_count": null,
   "id": "0b59ba0b",
   "metadata": {},
   "outputs": [],
   "source": [
    "# We will do one hot encoding for the following columns.\n",
    "\n",
    "# Replacing channel\n",
    "data.replace({\"bancassurance\": 0, ' Agency ': 1, 'Brokers': 2, 'Direct': 3},inplace = True)\n",
    "data.replace({'Single':0,'Multiple':1},inplace=True)\n",
    "data.replace({'Extended':0, 'Nuclear':1},inplace=True)\n",
    "data.replace({'Welfare':0, 'Employer':1},inplace=True)"
   ]
  },
  {
   "cell_type": "code",
   "execution_count": null,
   "id": "c8590b1b",
   "metadata": {},
   "outputs": [],
   "source": [
    "# one hot encoding - Family \n",
    "'''\n",
    "Type_family = data[['Nuclear/Extended']]\n",
    "\n",
    "Type_family = pd.get_dummies(Type_family, drop_first= True)\n",
    "\n",
    "Type_family.head()\n",
    "\n",
    "'''"
   ]
  },
  {
   "cell_type": "code",
   "execution_count": null,
   "id": "ddab0377",
   "metadata": {},
   "outputs": [],
   "source": [
    "# one hot encoding - No_claims \n",
    "'''\n",
    "No_claims = data[['Single/multiple']]\n",
    "\n",
    "No_claims = pd.get_dummies(No_claims, drop_first= True)\n",
    "\n",
    "No_claims.head()\n",
    "'''"
   ]
  },
  {
   "cell_type": "code",
   "execution_count": null,
   "id": "dab780e0",
   "metadata": {},
   "outputs": [],
   "source": [
    "'''\n",
    "# converting the categorical data which are suppose to be ordered \n",
    "from sklearn.preprocessing import LabelEncoder\n",
    "le = LabelEncoder()\n",
    "data['Quarter'] = le.fit_transform(data['Quarter'])\n",
    "data['Day']=le.fit_transform(data['Day'])\n",
    "'''"
   ]
  },
  {
   "cell_type": "code",
   "execution_count": null,
   "id": "1bdfcf12",
   "metadata": {},
   "outputs": [],
   "source": [
    "## convert float dtypes to int\n",
    "#data['Premium'] = data['Premium'].astype('int')\n",
    "data['Average_age'] = data['Average_age'].astype('int')\n",
    "data['Rate_Applied']= data['Rate_Applied'].astype('int')"
   ]
  },
  {
   "cell_type": "markdown",
   "id": "6cb30dc2",
   "metadata": {},
   "source": [
    "**Feature Selecting**"
   ]
  },
  {
   "cell_type": "markdown",
   "id": "252d94ba",
   "metadata": {},
   "source": [
    "**1.1 Heatmap - Correlation Matrix:**\n",
    "    \n",
    "We are trying to see how each variable relate to each other and the how it relate to target variable."
   ]
  },
  {
   "cell_type": "code",
   "execution_count": null,
   "id": "81ebd427",
   "metadata": {},
   "outputs": [],
   "source": [
    "#correlation heatmap of dataset\n",
    "def correlation_heatmap(data):\n",
    "    _ , ax = plt.subplots(figsize =(14, 12))\n",
    "    colormap = sns.diverging_palette(220, 10, as_cmap = True)\n",
    "    \n",
    "    _ = sns.heatmap(\n",
    "        data.corr(), \n",
    "        cmap = colormap,\n",
    "        square=True, \n",
    "        cbar_kws={'shrink':.9 }, \n",
    "        ax=ax,\n",
    "        annot=True, \n",
    "        linewidths=0.1,vmax=1.0, linecolor='white',\n",
    "        annot_kws={'fontsize':12 }\n",
    "    )\n",
    "    \n",
    "    plt.title('Pearson Correlation of Features', y=1.05, size=15)\n",
    "\n",
    "correlation_heatmap(data)"
   ]
  },
  {
   "cell_type": "markdown",
   "id": "503fa030",
   "metadata": {},
   "source": [
    "**Feature Importance**"
   ]
  },
  {
   "cell_type": "markdown",
   "id": "46a12ae1",
   "metadata": {},
   "source": [
    "We want to indentify any column that have 0 feature importance and drop it."
   ]
  },
  {
   "cell_type": "code",
   "execution_count": null,
   "id": "572f48cd",
   "metadata": {},
   "outputs": [],
   "source": [
    "from sklearn.preprocessing import StandardScaler\n",
    "\n",
    "X = data.drop([\"Rate_Applied\"],1).select_dtypes(exclude=['object'])\n",
    "cols = X.columns\n",
    "y = data[\"Rate_Applied\"]\n",
    "\n",
    "# Standardizing the features\n",
    "#X = StandardScaler().fit_transform(X)"
   ]
  },
  {
   "cell_type": "code",
   "execution_count": null,
   "id": "be6f08d1",
   "metadata": {},
   "outputs": [],
   "source": [
    "# Important feature using ExtraTreesRegressor\n",
    "\n",
    "from sklearn.ensemble import ExtraTreesRegressor\n",
    "selection = ExtraTreesRegressor()\n",
    "selection.fit(X, y)"
   ]
  },
  {
   "cell_type": "code",
   "execution_count": null,
   "id": "0e38294d",
   "metadata": {},
   "outputs": [],
   "source": [
    "print(selection.feature_importances_)"
   ]
  },
  {
   "cell_type": "code",
   "execution_count": null,
   "id": "fa10a054",
   "metadata": {},
   "outputs": [],
   "source": [
    "#plot graph of feature importances for better visualization\n",
    "\n",
    "plt.figure(figsize = (12,8))\n",
    "feat_importances = pd.Series(selection.feature_importances_, index=X.columns)\n",
    "feat_importances.nlargest(20).plot(kind='barh')\n",
    "plt.show()\n"
   ]
  },
  {
   "cell_type": "code",
   "execution_count": null,
   "id": "cde883a5",
   "metadata": {},
   "outputs": [],
   "source": [
    "feat_importances.sort_values(ascending = False)"
   ]
  },
  {
   "cell_type": "code",
   "execution_count": null,
   "id": "5c9380a6",
   "metadata": {},
   "outputs": [],
   "source": [
    "data.info()"
   ]
  },
  {
   "cell_type": "code",
   "execution_count": null,
   "id": "48bb8a70",
   "metadata": {},
   "outputs": [],
   "source": [
    "data.to_csv(r'final_data.csv')"
   ]
  },
  {
   "cell_type": "markdown",
   "id": "ed0e1a62",
   "metadata": {},
   "source": [
    "### 4. MODELLING USING VARIOUS REGRESSION METHODS"
   ]
  },
  {
   "cell_type": "markdown",
   "id": "3dba6dff",
   "metadata": {},
   "source": [
    "### 4.1 Predicting using CatBoost Regression."
   ]
  },
  {
   "cell_type": "code",
   "execution_count": 47,
   "id": "63f4a88f",
   "metadata": {},
   "outputs": [],
   "source": [
    "from sklearn.model_selection import train_test_split\n",
    "from sklearn.model_selection import KFold, cross_val_score"
   ]
  },
  {
   "cell_type": "code",
   "execution_count": 48,
   "id": "edef846d",
   "metadata": {},
   "outputs": [],
   "source": [
    "from sklearn.preprocessing import StandardScaler\n",
    "\n",
    "X = data.drop([\"Rate_Applied\"],1).select_dtypes(exclude=['object'])\n",
    "cols = X.columns\n",
    "y = data[\"Rate_Applied\"]\n",
    "\n",
    "# Standardizing the features\n",
    "#X = StandardScaler().fit_transform(X)"
   ]
  },
  {
   "cell_type": "code",
   "execution_count": 49,
   "id": "59726cd6",
   "metadata": {},
   "outputs": [
    {
     "data": {
      "text/plain": [
       "array([[0.00000000e+00, 3.68421053e-01, 1.13351254e-01, 1.61055296e-03,\n",
       "        8.59375000e-01, 0.00000000e+00, 0.00000000e+00, 0.00000000e+00,\n",
       "        0.00000000e+00],\n",
       "       [0.00000000e+00, 3.68421053e-01, 6.98924731e-02, 2.07071094e-03,\n",
       "        5.93750000e-01, 0.00000000e+00, 0.00000000e+00, 0.00000000e+00,\n",
       "        0.00000000e+00],\n",
       "       [0.00000000e+00, 3.68421053e-01, 1.05286738e-01, 1.22708797e-03,\n",
       "        7.18750000e-01, 0.00000000e+00, 0.00000000e+00, 0.00000000e+00,\n",
       "        0.00000000e+00],\n",
       "       [0.00000000e+00, 3.68421053e-01, 1.24551971e-01, 9.97008973e-04,\n",
       "        7.34375000e-01, 0.00000000e+00, 0.00000000e+00, 0.00000000e+00,\n",
       "        0.00000000e+00],\n",
       "       [0.00000000e+00, 3.68421053e-01, 1.12007168e-01, 1.03535547e-02,\n",
       "        6.71875000e-01, 0.00000000e+00, 0.00000000e+00, 0.00000000e+00,\n",
       "        0.00000000e+00],\n",
       "       [0.00000000e+00, 1.00000000e+00, 8.10931900e-02, 1.14502646e-01,\n",
       "        6.25000000e-01, 0.00000000e+00, 0.00000000e+00, 0.00000000e+00,\n",
       "        2.72727273e-01],\n",
       "       [0.00000000e+00, 3.68421053e-01, 8.49910394e-01, 5.36850986e-04,\n",
       "        7.18750000e-01, 0.00000000e+00, 0.00000000e+00, 0.00000000e+00,\n",
       "        0.00000000e+00],\n",
       "       [0.00000000e+00, 3.68421053e-01, 3.73207885e-01, 5.36850986e-04,\n",
       "        6.09375000e-01, 0.00000000e+00, 0.00000000e+00, 0.00000000e+00,\n",
       "        0.00000000e+00],\n",
       "       [0.00000000e+00, 3.68421053e-01, 5.60035842e-01, 3.83464990e-04,\n",
       "        6.25000000e-01, 0.00000000e+00, 0.00000000e+00, 0.00000000e+00,\n",
       "        0.00000000e+00],\n",
       "       [0.00000000e+00, 3.68421053e-01, 4.56989247e-02, 1.45716696e-03,\n",
       "        5.46875000e-01, 0.00000000e+00, 0.00000000e+00, 0.00000000e+00,\n",
       "        0.00000000e+00],\n",
       "       [0.00000000e+00, 3.68421053e-01, 2.03853047e-01, 4.60157988e-04,\n",
       "        6.56250000e-01, 0.00000000e+00, 0.00000000e+00, 0.00000000e+00,\n",
       "        0.00000000e+00],\n",
       "       [0.00000000e+00, 3.68421053e-01, 5.33154122e-02, 4.37150088e-03,\n",
       "        7.18750000e-01, 0.00000000e+00, 0.00000000e+00, 0.00000000e+00,\n",
       "        0.00000000e+00],\n",
       "       [0.00000000e+00, 3.68421053e-01, 1.52329749e-02, 6.82567682e-03,\n",
       "        5.78125000e-01, 0.00000000e+00, 0.00000000e+00, 0.00000000e+00,\n",
       "        0.00000000e+00],\n",
       "       [0.00000000e+00, 3.68421053e-01, 5.91397849e-02, 2.22409694e-03,\n",
       "        6.71875000e-01, 0.00000000e+00, 0.00000000e+00, 0.00000000e+00,\n",
       "        0.00000000e+00],\n",
       "       [0.00000000e+00, 3.68421053e-01, 3.94265233e-02, 3.60457090e-03,\n",
       "        7.81250000e-01, 0.00000000e+00, 0.00000000e+00, 0.00000000e+00,\n",
       "        0.00000000e+00],\n",
       "       [0.00000000e+00, 3.68421053e-01, 8.96057348e-02, 1.53385996e-03,\n",
       "        0.00000000e+00, 0.00000000e+00, 0.00000000e+00, 0.00000000e+00,\n",
       "        0.00000000e+00],\n",
       "       [0.00000000e+00, 3.68421053e-01, 2.50896057e-02, 4.14142189e-03,\n",
       "        6.56250000e-01, 0.00000000e+00, 0.00000000e+00, 0.00000000e+00,\n",
       "        0.00000000e+00],\n",
       "       [0.00000000e+00, 3.68421053e-01, 3.85304659e-02, 9.97008973e-04,\n",
       "        7.03125000e-01, 0.00000000e+00, 0.00000000e+00, 0.00000000e+00,\n",
       "        0.00000000e+00],\n",
       "       [0.00000000e+00, 3.68421053e-01, 1.50089606e-01, 6.44221183e-03,\n",
       "        6.56250000e-01, 0.00000000e+00, 0.00000000e+00, 0.00000000e+00,\n",
       "        0.00000000e+00],\n",
       "       [0.00000000e+00, 3.68421053e-01, 8.60215054e-02, 1.61055296e-03,\n",
       "        6.09375000e-01, 0.00000000e+00, 0.00000000e+00, 0.00000000e+00,\n",
       "        0.00000000e+00],\n",
       "       [0.00000000e+00, 3.68421053e-01, 1.38440860e-01, 8.43622977e-04,\n",
       "        8.12500000e-01, 0.00000000e+00, 0.00000000e+00, 0.00000000e+00,\n",
       "        0.00000000e+00],\n",
       "       [3.33333333e-01, 1.05263158e-01, 1.00000000e+00, 1.76393895e-03,\n",
       "        8.59375000e-01, 1.00000000e+00, 0.00000000e+00, 0.00000000e+00,\n",
       "        0.00000000e+00],\n",
       "       [3.33333333e-01, 1.57894737e-01, 2.75537634e-01, 4.98504487e-03,\n",
       "        6.56250000e-01, 0.00000000e+00, 0.00000000e+00, 0.00000000e+00,\n",
       "        0.00000000e+00],\n",
       "       [3.33333333e-01, 1.00000000e+00, 3.00627240e-01, 1.53385996e-03,\n",
       "        6.56250000e-01, 0.00000000e+00, 0.00000000e+00, 1.00000000e+00,\n",
       "        0.00000000e+00],\n",
       "       [3.33333333e-01, 1.57894737e-01, 8.64695341e-02, 3.60457090e-03,\n",
       "        7.96875000e-01, 1.00000000e+00, 0.00000000e+00, 0.00000000e+00,\n",
       "        3.63636364e-01],\n",
       "       [3.33333333e-01, 3.68421053e-01, 2.05197133e-01, 2.83764092e-03,\n",
       "        7.65625000e-01, 1.00000000e+00, 0.00000000e+00, 0.00000000e+00,\n",
       "        1.00000000e+00],\n",
       "       [3.33333333e-01, 2.63157895e-01, 0.00000000e+00, 3.83464990e-04,\n",
       "        7.50000000e-01, 0.00000000e+00, 1.00000000e+00, 1.00000000e+00,\n",
       "        1.81818182e-01],\n",
       "       [3.33333333e-01, 1.57894737e-01, 1.79211470e-01, 2.83764092e-03,\n",
       "        1.87500000e-01, 1.00000000e+00, 0.00000000e+00, 0.00000000e+00,\n",
       "        2.72727273e-01],\n",
       "       [6.66666667e-01, 3.68421053e-01, 0.00000000e+00, 2.30078994e-04,\n",
       "        2.34375000e-01, 1.00000000e+00, 0.00000000e+00, 0.00000000e+00,\n",
       "        0.00000000e+00],\n",
       "       [3.33333333e-01, 2.63157895e-01, 0.00000000e+00, 3.83464990e-04,\n",
       "        6.56250000e-01, 0.00000000e+00, 0.00000000e+00, 0.00000000e+00,\n",
       "        9.09090909e-02],\n",
       "       [3.33333333e-01, 1.57894737e-01, 7.70609319e-02, 1.30378096e-03,\n",
       "        6.56250000e-01, 0.00000000e+00, 1.00000000e+00, 0.00000000e+00,\n",
       "        0.00000000e+00],\n",
       "       [0.00000000e+00, 1.57894737e-01, 4.61469534e-02, 1.00000000e+00,\n",
       "        2.34375000e-01, 1.00000000e+00, 0.00000000e+00, 0.00000000e+00,\n",
       "        0.00000000e+00],\n",
       "       [0.00000000e+00, 1.57894737e-01, 6.94444444e-02, 9.50993174e-03,\n",
       "        7.03125000e-01, 0.00000000e+00, 0.00000000e+00, 0.00000000e+00,\n",
       "        0.00000000e+00],\n",
       "       [1.00000000e+00, 5.26315789e-02, 0.00000000e+00, 1.28767544e-01,\n",
       "        6.56250000e-01, 1.00000000e+00, 0.00000000e+00, 0.00000000e+00,\n",
       "        0.00000000e+00],\n",
       "       [1.00000000e+00, 3.68421053e-01, 0.00000000e+00, 0.00000000e+00,\n",
       "        6.56250000e-01, 1.00000000e+00, 0.00000000e+00, 0.00000000e+00,\n",
       "        0.00000000e+00],\n",
       "       [3.33333333e-01, 3.68421053e-01, 2.59856631e-01, 2.22409694e-03,\n",
       "        7.65625000e-01, 0.00000000e+00, 0.00000000e+00, 0.00000000e+00,\n",
       "        0.00000000e+00],\n",
       "       [1.00000000e+00, 1.57894737e-01, 4.74910394e-02, 1.38047396e-03,\n",
       "        6.56250000e-01, 0.00000000e+00, 1.00000000e+00, 0.00000000e+00,\n",
       "        1.00000000e+00],\n",
       "       [3.33333333e-01, 1.05263158e-01, 0.00000000e+00, 2.53086893e-03,\n",
       "        9.68750000e-01, 1.00000000e+00, 0.00000000e+00, 0.00000000e+00,\n",
       "        0.00000000e+00],\n",
       "       [0.00000000e+00, 1.00000000e+00, 0.00000000e+00, 1.38047396e-03,\n",
       "        6.25000000e-01, 0.00000000e+00, 0.00000000e+00, 0.00000000e+00,\n",
       "        0.00000000e+00],\n",
       "       [6.66666667e-01, 1.57894737e-01, 1.92204301e-01, 2.44650663e-02,\n",
       "        6.56250000e-01, 1.00000000e+00, 1.00000000e+00, 0.00000000e+00,\n",
       "        0.00000000e+00],\n",
       "       [3.33333333e-01, 5.78947368e-01, 1.28136201e-01, 2.68425493e-03,\n",
       "        6.56250000e-01, 0.00000000e+00, 1.00000000e+00, 0.00000000e+00,\n",
       "        0.00000000e+00],\n",
       "       [3.33333333e-01, 1.57894737e-01, 6.81003584e-02, 7.89937879e-02,\n",
       "        6.25000000e-01, 0.00000000e+00, 1.00000000e+00, 0.00000000e+00,\n",
       "        0.00000000e+00],\n",
       "       [0.00000000e+00, 1.57894737e-01, 6.89964158e-02, 1.73326175e-02,\n",
       "        7.18750000e-01, 0.00000000e+00, 0.00000000e+00, 0.00000000e+00,\n",
       "        4.54545455e-01],\n",
       "       [6.66666667e-01, 1.57894737e-01, 7.21326165e-02, 1.53385996e-03,\n",
       "        6.87500000e-01, 0.00000000e+00, 0.00000000e+00, 0.00000000e+00,\n",
       "        4.54545455e-01],\n",
       "       [3.33333333e-01, 1.57894737e-01, 0.00000000e+00, 1.07370197e-03,\n",
       "        6.09375000e-01, 0.00000000e+00, 0.00000000e+00, 0.00000000e+00,\n",
       "        6.36363636e-01],\n",
       "       [3.33333333e-01, 1.57894737e-01, 0.00000000e+00, 6.36551883e-03,\n",
       "        8.59375000e-01, 0.00000000e+00, 0.00000000e+00, 0.00000000e+00,\n",
       "        1.81818182e-01],\n",
       "       [3.33333333e-01, 1.57894737e-01, 0.00000000e+00, 1.07370197e-03,\n",
       "        6.56250000e-01, 0.00000000e+00, 1.00000000e+00, 0.00000000e+00,\n",
       "        6.36363636e-01],\n",
       "       [3.33333333e-01, 4.73684211e-01, 0.00000000e+00, 3.83464990e-04,\n",
       "        6.25000000e-01, 0.00000000e+00, 1.00000000e+00, 0.00000000e+00,\n",
       "        7.27272727e-01],\n",
       "       [3.33333333e-01, 1.57894737e-01, 0.00000000e+00, 1.38047396e-03,\n",
       "        5.78125000e-01, 0.00000000e+00, 0.00000000e+00, 0.00000000e+00,\n",
       "        9.09090909e-02],\n",
       "       [6.66666667e-01, 1.57894737e-01, 0.00000000e+00, 9.58662474e-03,\n",
       "        7.96875000e-01, 0.00000000e+00, 0.00000000e+00, 0.00000000e+00,\n",
       "        5.45454545e-01],\n",
       "       [3.33333333e-01, 1.57894737e-01, 0.00000000e+00, 1.99401795e-03,\n",
       "        6.56250000e-01, 0.00000000e+00, 0.00000000e+00, 0.00000000e+00,\n",
       "        0.00000000e+00],\n",
       "       [3.33333333e-01, 1.57894737e-01, 0.00000000e+00, 1.22708797e-03,\n",
       "        6.71875000e-01, 0.00000000e+00, 1.00000000e+00, 0.00000000e+00,\n",
       "        1.81818182e-01],\n",
       "       [3.33333333e-01, 1.57894737e-01, 0.00000000e+00, 6.21213283e-03,\n",
       "        8.12500000e-01, 0.00000000e+00, 1.00000000e+00, 0.00000000e+00,\n",
       "        4.54545455e-01],\n",
       "       [1.00000000e+00, 1.57894737e-01, 2.68817204e-02, 4.60157988e-04,\n",
       "        5.46875000e-01, 0.00000000e+00, 0.00000000e+00, 0.00000000e+00,\n",
       "        1.00000000e+00],\n",
       "       [3.33333333e-01, 1.00000000e+00, 0.00000000e+00, 4.60157988e-04,\n",
       "        5.31250000e-01, 0.00000000e+00, 1.00000000e+00, 0.00000000e+00,\n",
       "        3.63636364e-01],\n",
       "       [3.33333333e-01, 1.57894737e-01, 0.00000000e+00, 6.90236981e-04,\n",
       "        6.56250000e-01, 0.00000000e+00, 0.00000000e+00, 0.00000000e+00,\n",
       "        6.36363636e-01],\n",
       "       [3.33333333e-01, 1.57894737e-01, 0.00000000e+00, 6.90236981e-04,\n",
       "        5.78125000e-01, 0.00000000e+00, 0.00000000e+00, 0.00000000e+00,\n",
       "        7.27272727e-01],\n",
       "       [3.33333333e-01, 1.57894737e-01, 7.43727599e-02, 1.08904057e-02,\n",
       "        6.56250000e-01, 0.00000000e+00, 1.00000000e+00, 0.00000000e+00,\n",
       "        0.00000000e+00],\n",
       "       [3.33333333e-01, 1.57894737e-01, 0.00000000e+00, 3.77329550e-02,\n",
       "        6.56250000e-01, 1.00000000e+00, 1.00000000e+00, 0.00000000e+00,\n",
       "        6.36363636e-01],\n",
       "       [3.33333333e-01, 5.78947368e-01, 0.00000000e+00, 3.83464990e-04,\n",
       "        9.21875000e-01, 1.00000000e+00, 1.00000000e+00, 0.00000000e+00,\n",
       "        2.72727273e-01],\n",
       "       [3.33333333e-01, 2.63157895e-01, 1.63082437e-01, 4.60157988e-04,\n",
       "        6.56250000e-01, 0.00000000e+00, 0.00000000e+00, 0.00000000e+00,\n",
       "        1.81818182e-01],\n",
       "       [6.66666667e-01, 5.78947368e-01, 0.00000000e+00, 1.30378096e-03,\n",
       "        5.62500000e-01, 0.00000000e+00, 0.00000000e+00, 1.00000000e+00,\n",
       "        5.45454545e-01],\n",
       "       [1.00000000e+00, 5.26315789e-02, 0.00000000e+00, 2.30078994e-04,\n",
       "        6.25000000e-01, 0.00000000e+00, 0.00000000e+00, 0.00000000e+00,\n",
       "        5.45454545e-01],\n",
       "       [1.00000000e+00, 3.68421053e-01, 0.00000000e+00, 5.36850986e-03,\n",
       "        7.03125000e-01, 0.00000000e+00, 0.00000000e+00, 0.00000000e+00,\n",
       "        9.09090909e-01],\n",
       "       [1.00000000e+00, 2.63157895e-01, 0.00000000e+00, 9.20315975e-04,\n",
       "        7.03125000e-01, 0.00000000e+00, 0.00000000e+00, 0.00000000e+00,\n",
       "        4.54545455e-01],\n",
       "       [1.00000000e+00, 1.57894737e-01, 0.00000000e+00, 1.22708797e-03,\n",
       "        7.18750000e-01, 0.00000000e+00, 0.00000000e+00, 1.00000000e+00,\n",
       "        1.81818182e-01],\n",
       "       [1.00000000e+00, 5.78947368e-01, 0.00000000e+00, 3.75795690e-03,\n",
       "        9.37500000e-01, 1.00000000e+00, 0.00000000e+00, 0.00000000e+00,\n",
       "        0.00000000e+00],\n",
       "       [6.66666667e-01, 0.00000000e+00, 0.00000000e+00, 4.06472889e-03,\n",
       "        4.53125000e-01, 1.00000000e+00, 0.00000000e+00, 0.00000000e+00,\n",
       "        2.72727273e-01],\n",
       "       [3.33333333e-01, 1.57894737e-01, 0.00000000e+00, 3.37449191e-03,\n",
       "        8.12500000e-01, 0.00000000e+00, 0.00000000e+00, 0.00000000e+00,\n",
       "        0.00000000e+00],\n",
       "       [3.33333333e-01, 7.36842105e-02, 0.00000000e+00, 9.97008973e-04,\n",
       "        6.09375000e-01, 0.00000000e+00, 0.00000000e+00, 0.00000000e+00,\n",
       "        6.36363636e-01],\n",
       "       [3.33333333e-01, 1.57894737e-01, 0.00000000e+00, 5.36850986e-03,\n",
       "        5.78125000e-01, 1.00000000e+00, 0.00000000e+00, 0.00000000e+00,\n",
       "        1.00000000e+00],\n",
       "       [3.33333333e-01, 2.63157895e-01, 0.00000000e+00, 4.29480788e-03,\n",
       "        6.09375000e-01, 1.00000000e+00, 0.00000000e+00, 0.00000000e+00,\n",
       "        5.45454545e-01],\n",
       "       [3.33333333e-01, 5.78947368e-01, 0.00000000e+00, 7.66929979e-04,\n",
       "        1.00000000e+00, 1.00000000e+00, 0.00000000e+00, 0.00000000e+00,\n",
       "        4.54545455e-01],\n",
       "       [6.66666667e-01, 1.57894737e-01, 0.00000000e+00, 1.11204847e-02,\n",
       "        7.03125000e-01, 0.00000000e+00, 0.00000000e+00, 0.00000000e+00,\n",
       "        7.27272727e-01]])"
      ]
     },
     "execution_count": 49,
     "metadata": {},
     "output_type": "execute_result"
    }
   ],
   "source": [
    "# Normalizing the feature variables\n",
    "from sklearn.preprocessing import MinMaxScaler\n",
    "scaler  = MinMaxScaler()\n",
    "\n",
    "X_scaled = scaler.fit_transform(X)\n",
    "\n",
    "X_scaled"
   ]
  },
  {
   "cell_type": "code",
   "execution_count": 50,
   "id": "b98a7717",
   "metadata": {},
   "outputs": [
    {
     "name": "stdout",
     "output_type": "stream",
     "text": [
      "(51, 9) (51,)\n",
      "(23, 9) (23,)\n"
     ]
    }
   ],
   "source": [
    "X_train, X_test, y_train, y_test = train_test_split(X_scaled,y, test_size=0.3, random_state = 42)\n",
    "print (X_train.shape, y_train.shape)\n",
    "print (X_test.shape, y_test.shape)"
   ]
  },
  {
   "cell_type": "code",
   "execution_count": 51,
   "id": "19c5949a",
   "metadata": {},
   "outputs": [],
   "source": [
    "from catboost import CatBoostRegressor\n",
    "predictions = []\n",
    "for i in range(10):\n",
    "  # Training the model\n",
    "  ct=CatBoostRegressor(iterations=10000, \n",
    "                    loss_function='MAE',  \n",
    "                       \n",
    "                    logging_level='Silent',\n",
    "                    depth = i\n",
    "                    )\n",
    "ct.fit(X_train, y_train)\n",
    "    \n",
    "\n",
    "  # Making predictions\n",
    "preds = ct.predict(X_test)\n",
    "predictions.append(preds)\n",
    "\n",
    "# Averaging the predictions\n",
    "preds = np.mean(predictions, axis = 0)"
   ]
  },
  {
   "cell_type": "code",
   "execution_count": 52,
   "id": "ca7c839b",
   "metadata": {},
   "outputs": [
    {
     "name": "stdout",
     "output_type": "stream",
     "text": [
      "Accuracy  0.999999999999998 \n"
     ]
    }
   ],
   "source": [
    "# Model Evaluation \n",
    "from sklearn.metrics import mean_absolute_error \n",
    "Accuracy = ct.score(X_train,y_train)\n",
    "print('Accuracy  {} '.format(Accuracy))"
   ]
  },
  {
   "cell_type": "markdown",
   "id": "f0f9a6df",
   "metadata": {},
   "source": [
    "### 4.2 Prediction using XGBoost."
   ]
  },
  {
   "cell_type": "code",
   "execution_count": 53,
   "id": "80e95a33",
   "metadata": {},
   "outputs": [],
   "source": [
    "from xgboost import XGBRegressor\n",
    "\n",
    "# create an xgboost regression model\n",
    "model_xgb = XGBRegressor(n_estimators=1000, max_depth=7, eta=0.1, subsample=0.7, colsample_bytree=0.8)\n",
    "model_xgb.fit(X_train, y_train, \n",
    "             early_stopping_rounds=10, \n",
    "             eval_set=[(X_test, y_test)], \n",
    "             verbose=False)\n",
    "# Model Prediction\n",
    "cost_predict = model_xgb.predict(X_test)"
   ]
  },
  {
   "cell_type": "code",
   "execution_count": 54,
   "id": "d4b4a1bf",
   "metadata": {},
   "outputs": [
    {
     "name": "stdout",
     "output_type": "stream",
     "text": [
      "0.9040557797040052\n"
     ]
    }
   ],
   "source": [
    "# Model Evaluation.\n",
    "#Checking accuracy on test data\n",
    "accuracy = model_xgb.score(X_train,y_train)\n",
    "print(accuracy)"
   ]
  },
  {
   "cell_type": "markdown",
   "id": "eccf2a11",
   "metadata": {},
   "source": [
    "### 4.3 Prediction using Linear Regression."
   ]
  },
  {
   "cell_type": "code",
   "execution_count": 55,
   "id": "d815be42",
   "metadata": {},
   "outputs": [
    {
     "data": {
      "text/plain": [
       "LinearRegression()"
      ]
     },
     "execution_count": 55,
     "metadata": {},
     "output_type": "execute_result"
    }
   ],
   "source": [
    "# model fitting\n",
    "from sklearn.linear_model import LinearRegression\n",
    "\n",
    "lin_reg = LinearRegression()\n",
    "lin_reg.fit(X_train, y_train)"
   ]
  },
  {
   "cell_type": "code",
   "execution_count": 56,
   "id": "abdb4f74",
   "metadata": {},
   "outputs": [
    {
     "name": "stdout",
     "output_type": "stream",
     "text": [
      "0.6422803043703373\n"
     ]
    }
   ],
   "source": [
    "# Model prediction \n",
    "#Checking accuracy on test data\n",
    "accuracy = lin_reg.score(X_train,y_train)\n",
    "print(accuracy)"
   ]
  },
  {
   "cell_type": "markdown",
   "id": "47b5e0d7",
   "metadata": {},
   "source": [
    "### 4.4 Random Forest "
   ]
  },
  {
   "cell_type": "code",
   "execution_count": 57,
   "id": "ebc6e102",
   "metadata": {},
   "outputs": [
    {
     "data": {
      "text/plain": [
       "RandomForestRegressor()"
      ]
     },
     "execution_count": 57,
     "metadata": {},
     "output_type": "execute_result"
    }
   ],
   "source": [
    "from sklearn.ensemble import RandomForestRegressor\n",
    "reg_rf = RandomForestRegressor()\n",
    "reg_rf.fit(X_train, y_train)"
   ]
  },
  {
   "cell_type": "code",
   "execution_count": 58,
   "id": "ea0f7559",
   "metadata": {},
   "outputs": [],
   "source": [
    "y_pred = reg_rf.predict(X_test)"
   ]
  },
  {
   "cell_type": "code",
   "execution_count": 59,
   "id": "2c93563a",
   "metadata": {},
   "outputs": [
    {
     "data": {
      "text/plain": [
       "0.886766441200282"
      ]
     },
     "execution_count": 59,
     "metadata": {},
     "output_type": "execute_result"
    }
   ],
   "source": [
    "reg_rf.score(X_train, y_train)"
   ]
  },
  {
   "cell_type": "code",
   "execution_count": 60,
   "id": "30e7199f",
   "metadata": {},
   "outputs": [
    {
     "data": {
      "image/png": "[encoded data removed]",
      "text/plain": [
       "<Figure size 432x288 with 1 Axes>"
      ]
     },
     "metadata": {
      "needs_background": "light"
     },
     "output_type": "display_data"
    }
   ],
   "source": [
    "sns.distplot(y_test-y_pred)\n",
    "plt.show()"
   ]
  },
  {
   "cell_type": "code",
   "execution_count": 61,
   "id": "a672f37b",
   "metadata": {},
   "outputs": [
    {
     "data": {
      "image/png": "[encoded data removed]",
      "text/plain": [
       "<Figure size 432x288 with 1 Axes>"
      ]
     },
     "metadata": {
      "needs_background": "light"
     },
     "output_type": "display_data"
    }
   ],
   "source": [
    "plt.scatter(y_test, y_pred, alpha = 0.5)\n",
    "plt.xlabel(\"y_test\")\n",
    "plt.ylabel(\"y_pred\")\n",
    "plt.show()"
   ]
  },
  {
   "cell_type": "markdown",
   "id": "47dcd8bf",
   "metadata": {},
   "source": [
    "## Hyperparameter Tuning\n",
    "\n",
    "\n",
    "* Choose following method for hyperparameter tuning\n",
    "    1. **RandomizedSearchCV** --> Fast\n",
    "    2. **GridSearchCV**\n",
    "* Assign hyperparameters in form of dictionery\n",
    "* Fit the model\n",
    "* Check best paramters and best score"
   ]
  },
  {
   "cell_type": "markdown",
   "id": "26268ecc",
   "metadata": {},
   "source": [
    "**1.1 Hyperparameter Tuning for using RandomForest.**"
   ]
  },
  {
   "cell_type": "code",
   "execution_count": 62,
   "id": "1f38dbb9",
   "metadata": {},
   "outputs": [],
   "source": [
    "from sklearn.model_selection import RandomizedSearchCV\n",
    "\n",
    "#Randomized Search CV\n",
    "\n",
    "# Number of trees in random forest\n",
    "n_estimators = [int(x) for x in np.linspace(start = 100, stop = 1200, num = 12)]\n",
    "# Number of features to consider at every split\n",
    "max_features = ['auto', 'sqrt']\n",
    "# Maximum number of levels in tree\n",
    "max_depth = [int(x) for x in np.linspace(5, 30, num = 6)]\n",
    "# Minimum number of samples required to split a node\n",
    "min_samples_split = [2, 5, 10, 15, 100]\n",
    "# Minimum number of samples required at each leaf node\n",
    "min_samples_leaf = [1, 2, 5, 10]"
   ]
  },
  {
   "cell_type": "code",
   "execution_count": 63,
   "id": "360aca92",
   "metadata": {},
   "outputs": [],
   "source": [
    "# Create the random grid\n",
    "\n",
    "random_grid = {'n_estimators': n_estimators,\n",
    "               'max_features': max_features,\n",
    "               'max_depth': max_depth,\n",
    "               'min_samples_split': min_samples_split,\n",
    "               'min_samples_leaf': min_samples_leaf}"
   ]
  },
  {
   "cell_type": "code",
   "execution_count": 64,
   "id": "15e3526b",
   "metadata": {},
   "outputs": [],
   "source": [
    "# Random search of parameters, using 5 fold cross validation, \n",
    "# search across 100 different combinations\n",
    "rf_random = RandomizedSearchCV(estimator = reg_rf, param_distributions = random_grid,scoring='neg_mean_squared_error', n_iter = 10, cv = 5, verbose=2, random_state=42, n_jobs = 1)"
   ]
  },
  {
   "cell_type": "code",
   "execution_count": 65,
   "id": "5764877c",
   "metadata": {},
   "outputs": [
    {
     "name": "stdout",
     "output_type": "stream",
     "text": [
      "Fitting 5 folds for each of 10 candidates, totalling 50 fits\n",
      "[CV] END max_depth=10, max_features=sqrt, min_samples_leaf=5, min_samples_split=5, n_estimators=900; total time=   2.0s\n",
      "[CV] END max_depth=10, max_features=sqrt, min_samples_leaf=5, min_samples_split=5, n_estimators=900; total time=   1.7s\n",
      "[CV] END max_depth=10, max_features=sqrt, min_samples_leaf=5, min_samples_split=5, n_estimators=900; total time=   1.5s\n",
      "[CV] END max_depth=10, max_features=sqrt, min_samples_leaf=5, min_samples_split=5, n_estimators=900; total time=   1.9s\n",
      "[CV] END max_depth=10, max_features=sqrt, min_samples_leaf=5, min_samples_split=5, n_estimators=900; total time=   1.9s\n",
      "[CV] END max_depth=15, max_features=sqrt, min_samples_leaf=2, min_samples_split=10, n_estimators=1100; total time=   2.0s\n",
      "[CV] END max_depth=15, max_features=sqrt, min_samples_leaf=2, min_samples_split=10, n_estimators=1100; total time=   2.3s\n",
      "[CV] END max_depth=15, max_features=sqrt, min_samples_leaf=2, min_samples_split=10, n_estimators=1100; total time=   1.9s\n",
      "[CV] END max_depth=15, max_features=sqrt, min_samples_leaf=2, min_samples_split=10, n_estimators=1100; total time=   1.8s\n",
      "[CV] END max_depth=15, max_features=sqrt, min_samples_leaf=2, min_samples_split=10, n_estimators=1100; total time=   1.8s\n",
      "[CV] END max_depth=15, max_features=auto, min_samples_leaf=5, min_samples_split=100, n_estimators=300; total time=   0.5s\n",
      "[CV] END max_depth=15, max_features=auto, min_samples_leaf=5, min_samples_split=100, n_estimators=300; total time=   0.5s\n",
      "[CV] END max_depth=15, max_features=auto, min_samples_leaf=5, min_samples_split=100, n_estimators=300; total time=   0.4s\n",
      "[CV] END max_depth=15, max_features=auto, min_samples_leaf=5, min_samples_split=100, n_estimators=300; total time=   0.4s\n",
      "[CV] END max_depth=15, max_features=auto, min_samples_leaf=5, min_samples_split=100, n_estimators=300; total time=   0.5s\n",
      "[CV] END max_depth=15, max_features=auto, min_samples_leaf=5, min_samples_split=5, n_estimators=400; total time=   0.6s\n",
      "[CV] END max_depth=15, max_features=auto, min_samples_leaf=5, min_samples_split=5, n_estimators=400; total time=   0.8s\n",
      "[CV] END max_depth=15, max_features=auto, min_samples_leaf=5, min_samples_split=5, n_estimators=400; total time=   0.8s\n",
      "[CV] END max_depth=15, max_features=auto, min_samples_leaf=5, min_samples_split=5, n_estimators=400; total time=   0.7s\n",
      "[CV] END max_depth=15, max_features=auto, min_samples_leaf=5, min_samples_split=5, n_estimators=400; total time=   0.7s\n",
      "[CV] END max_depth=20, max_features=auto, min_samples_leaf=10, min_samples_split=5, n_estimators=700; total time=   1.4s\n",
      "[CV] END max_depth=20, max_features=auto, min_samples_leaf=10, min_samples_split=5, n_estimators=700; total time=   1.3s\n",
      "[CV] END max_depth=20, max_features=auto, min_samples_leaf=10, min_samples_split=5, n_estimators=700; total time=   1.3s\n",
      "[CV] END max_depth=20, max_features=auto, min_samples_leaf=10, min_samples_split=5, n_estimators=700; total time=   1.5s\n",
      "[CV] END max_depth=20, max_features=auto, min_samples_leaf=10, min_samples_split=5, n_estimators=700; total time=   1.3s\n",
      "[CV] END max_depth=25, max_features=sqrt, min_samples_leaf=1, min_samples_split=2, n_estimators=1000; total time=   2.3s\n",
      "[CV] END max_depth=25, max_features=sqrt, min_samples_leaf=1, min_samples_split=2, n_estimators=1000; total time=   1.9s\n",
      "[CV] END max_depth=25, max_features=sqrt, min_samples_leaf=1, min_samples_split=2, n_estimators=1000; total time=   2.4s\n",
      "[CV] END max_depth=25, max_features=sqrt, min_samples_leaf=1, min_samples_split=2, n_estimators=1000; total time=   2.0s\n",
      "[CV] END max_depth=25, max_features=sqrt, min_samples_leaf=1, min_samples_split=2, n_estimators=1000; total time=   2.1s\n",
      "[CV] END max_depth=5, max_features=sqrt, min_samples_leaf=10, min_samples_split=15, n_estimators=1100; total time=   1.9s\n",
      "[CV] END max_depth=5, max_features=sqrt, min_samples_leaf=10, min_samples_split=15, n_estimators=1100; total time=   1.8s\n",
      "[CV] END max_depth=5, max_features=sqrt, min_samples_leaf=10, min_samples_split=15, n_estimators=1100; total time=   1.8s\n",
      "[CV] END max_depth=5, max_features=sqrt, min_samples_leaf=10, min_samples_split=15, n_estimators=1100; total time=   1.8s\n",
      "[CV] END max_depth=5, max_features=sqrt, min_samples_leaf=10, min_samples_split=15, n_estimators=1100; total time=   1.9s\n",
      "[CV] END max_depth=15, max_features=sqrt, min_samples_leaf=1, min_samples_split=15, n_estimators=300; total time=   0.5s\n",
      "[CV] END max_depth=15, max_features=sqrt, min_samples_leaf=1, min_samples_split=15, n_estimators=300; total time=   0.5s\n",
      "[CV] END max_depth=15, max_features=sqrt, min_samples_leaf=1, min_samples_split=15, n_estimators=300; total time=   0.5s\n",
      "[CV] END max_depth=15, max_features=sqrt, min_samples_leaf=1, min_samples_split=15, n_estimators=300; total time=   0.5s\n",
      "[CV] END max_depth=15, max_features=sqrt, min_samples_leaf=1, min_samples_split=15, n_estimators=300; total time=   0.5s\n",
      "[CV] END max_depth=5, max_features=sqrt, min_samples_leaf=2, min_samples_split=10, n_estimators=700; total time=   1.3s\n",
      "[CV] END max_depth=5, max_features=sqrt, min_samples_leaf=2, min_samples_split=10, n_estimators=700; total time=   1.1s\n",
      "[CV] END max_depth=5, max_features=sqrt, min_samples_leaf=2, min_samples_split=10, n_estimators=700; total time=   1.1s\n",
      "[CV] END max_depth=5, max_features=sqrt, min_samples_leaf=2, min_samples_split=10, n_estimators=700; total time=   1.2s\n",
      "[CV] END max_depth=5, max_features=sqrt, min_samples_leaf=2, min_samples_split=10, n_estimators=700; total time=   1.4s\n",
      "[CV] END max_depth=20, max_features=auto, min_samples_leaf=1, min_samples_split=15, n_estimators=700; total time=   1.4s\n",
      "[CV] END max_depth=20, max_features=auto, min_samples_leaf=1, min_samples_split=15, n_estimators=700; total time=   1.2s\n",
      "[CV] END max_depth=20, max_features=auto, min_samples_leaf=1, min_samples_split=15, n_estimators=700; total time=   1.4s\n",
      "[CV] END max_depth=20, max_features=auto, min_samples_leaf=1, min_samples_split=15, n_estimators=700; total time=   1.3s\n",
      "[CV] END max_depth=20, max_features=auto, min_samples_leaf=1, min_samples_split=15, n_estimators=700; total time=   1.3s\n"
     ]
    },
    {
     "data": {
      "text/plain": [
       "RandomizedSearchCV(cv=5, estimator=RandomForestRegressor(), n_jobs=1,\n",
       "                   param_distributions={'max_depth': [5, 10, 15, 20, 25, 30],\n",
       "                                        'max_features': ['auto', 'sqrt'],\n",
       "                                        'min_samples_leaf': [1, 2, 5, 10],\n",
       "                                        'min_samples_split': [2, 5, 10, 15,\n",
       "                                                              100],\n",
       "                                        'n_estimators': [100, 200, 300, 400,\n",
       "                                                         500, 600, 700, 800,\n",
       "                                                         900, 1000, 1100,\n",
       "                                                         1200]},\n",
       "                   random_state=42, scoring='neg_mean_squared_error',\n",
       "                   verbose=2)"
      ]
     },
     "execution_count": 65,
     "metadata": {},
     "output_type": "execute_result"
    }
   ],
   "source": [
    "rf_random.fit(X_train,y_train)"
   ]
  },
  {
   "cell_type": "code",
   "execution_count": 66,
   "id": "c523fda0",
   "metadata": {},
   "outputs": [
    {
     "data": {
      "text/plain": [
       "{'n_estimators': 400,\n",
       " 'min_samples_split': 5,\n",
       " 'min_samples_leaf': 5,\n",
       " 'max_features': 'auto',\n",
       " 'max_depth': 15}"
      ]
     },
     "execution_count": 66,
     "metadata": {},
     "output_type": "execute_result"
    }
   ],
   "source": [
    "rf_random.best_params_"
   ]
  },
  {
   "cell_type": "code",
   "execution_count": 67,
   "id": "bf302f3f",
   "metadata": {},
   "outputs": [],
   "source": [
    "prediction = rf_random.predict(X_test)"
   ]
  },
  {
   "cell_type": "code",
   "execution_count": 68,
   "id": "e21468a4",
   "metadata": {},
   "outputs": [
    {
     "name": "stdout",
     "output_type": "stream",
     "text": [
      "MAE: 9.005759714104082\n",
      "MSE: 153.08828644717616\n",
      "RMSE: 12.372885130282919\n"
     ]
    }
   ],
   "source": [
    "from sklearn import metrics\n",
    "print('MAE:', metrics.mean_absolute_error(y_test, prediction))\n",
    "print('MSE:', metrics.mean_squared_error(y_test, prediction))\n",
    "print('RMSE:', np.sqrt(metrics.mean_squared_error(y_test, prediction)))"
   ]
  },
  {
   "cell_type": "markdown",
   "id": "8887685a",
   "metadata": {},
   "source": [
    "**1.2 Hyperparameter Tuning for Catboost.**"
   ]
  },
  {
   "cell_type": "code",
   "execution_count": 69,
   "id": "8f3ee736",
   "metadata": {},
   "outputs": [],
   "source": [
    "grid = {'learning_rate': [0.03, 0.1],\n",
    "        'depth': [4, 6, 10],\n",
    "        'l2_leaf_reg': [1, 3, 5, 7, 9]}"
   ]
  },
  {
   "cell_type": "code",
   "execution_count": 70,
   "id": "f0869903",
   "metadata": {},
   "outputs": [
    {
     "ename": "TypeError",
     "evalue": "__init__() got an unexpected keyword argument 'X'",
     "output_type": "error",
     "traceback": [
      "\u001b[1;31m---------------------------------------------------------------------------\u001b[0m",
      "\u001b[1;31mTypeError\u001b[0m                                 Traceback (most recent call last)",
      "\u001b[1;32m<ipython-input-70-9fd66a01702b>\u001b[0m in \u001b[0;36m<module>\u001b[1;34m\u001b[0m\n\u001b[1;32m----> 1\u001b[1;33m model_ct=RandomizedSearchCV(grid,\n\u001b[0m\u001b[0;32m      2\u001b[0m                             \u001b[0mX\u001b[0m\u001b[1;33m=\u001b[0m\u001b[0mX_train\u001b[0m\u001b[1;33m,\u001b[0m\u001b[1;33m\u001b[0m\u001b[1;33m\u001b[0m\u001b[0m\n\u001b[0;32m      3\u001b[0m                             \u001b[0my\u001b[0m\u001b[1;33m=\u001b[0m\u001b[0my_train\u001b[0m\u001b[1;33m,\u001b[0m\u001b[1;33m\u001b[0m\u001b[1;33m\u001b[0m\u001b[0m\n\u001b[0;32m      4\u001b[0m                             plot = True)\n",
      "\u001b[1;32m~\\anaconda3\\lib\\site-packages\\sklearn\\utils\\validation.py\u001b[0m in \u001b[0;36minner_f\u001b[1;34m(*args, **kwargs)\u001b[0m\n\u001b[0;32m     61\u001b[0m             \u001b[0mextra_args\u001b[0m \u001b[1;33m=\u001b[0m \u001b[0mlen\u001b[0m\u001b[1;33m(\u001b[0m\u001b[0margs\u001b[0m\u001b[1;33m)\u001b[0m \u001b[1;33m-\u001b[0m \u001b[0mlen\u001b[0m\u001b[1;33m(\u001b[0m\u001b[0mall_args\u001b[0m\u001b[1;33m)\u001b[0m\u001b[1;33m\u001b[0m\u001b[1;33m\u001b[0m\u001b[0m\n\u001b[0;32m     62\u001b[0m             \u001b[1;32mif\u001b[0m \u001b[0mextra_args\u001b[0m \u001b[1;33m<=\u001b[0m \u001b[1;36m0\u001b[0m\u001b[1;33m:\u001b[0m\u001b[1;33m\u001b[0m\u001b[1;33m\u001b[0m\u001b[0m\n\u001b[1;32m---> 63\u001b[1;33m                 \u001b[1;32mreturn\u001b[0m \u001b[0mf\u001b[0m\u001b[1;33m(\u001b[0m\u001b[1;33m*\u001b[0m\u001b[0margs\u001b[0m\u001b[1;33m,\u001b[0m \u001b[1;33m**\u001b[0m\u001b[0mkwargs\u001b[0m\u001b[1;33m)\u001b[0m\u001b[1;33m\u001b[0m\u001b[1;33m\u001b[0m\u001b[0m\n\u001b[0m\u001b[0;32m     64\u001b[0m \u001b[1;33m\u001b[0m\u001b[0m\n\u001b[0;32m     65\u001b[0m             \u001b[1;31m# extra_args > 0\u001b[0m\u001b[1;33m\u001b[0m\u001b[1;33m\u001b[0m\u001b[0m\n",
      "\u001b[1;31mTypeError\u001b[0m: __init__() got an unexpected keyword argument 'X'"
     ]
    }
   ],
   "source": [
    "model_ct=RandomizedSearchCV(grid,\n",
    "                            X=X_train,\n",
    "                            y=y_train,\n",
    "                            plot = True)"
   ]
  },
  {
   "cell_type": "markdown",
   "id": "253cacde",
   "metadata": {},
   "source": [
    "#### Saving the Model"
   ]
  },
  {
   "cell_type": "code",
   "execution_count": 71,
   "id": "7dfb24a1",
   "metadata": {},
   "outputs": [],
   "source": [
    "import pickle\n",
    "# open a file, where you ant to store the data\n",
    "file = open('pricing_rf.pkl', 'wb')\n",
    "\n",
    "# dump information to that file\n",
    "pickle.dump(rf_random, file)"
   ]
  },
  {
   "cell_type": "code",
   "execution_count": 72,
   "id": "7ece3a66",
   "metadata": {},
   "outputs": [],
   "source": [
    "model = open('pricing_rf.pkl','rb')\n",
    "forest = pickle.load(model)"
   ]
  },
  {
   "cell_type": "code",
   "execution_count": 73,
   "id": "6ba2b2cd",
   "metadata": {},
   "outputs": [],
   "source": [
    "y_prediction = forest.predict(X_test)"
   ]
  },
  {
   "cell_type": "code",
   "execution_count": 74,
   "id": "7337326c",
   "metadata": {},
   "outputs": [
    {
     "data": {
      "text/plain": [
       "0.24406138774800523"
      ]
     },
     "execution_count": 74,
     "metadata": {},
     "output_type": "execute_result"
    }
   ],
   "source": [
    "metrics.r2_score(y_test, y_prediction)"
   ]
  },
  {
   "cell_type": "code",
   "execution_count": null,
   "id": "eff1829b",
   "metadata": {},
   "outputs": [],
   "source": []
  }
 ],
 "metadata": {
  "kernelspec": {
   "display_name": "Python 3 (ipykernel)",
   "language": "python",
   "name": "python3"
  },
  "language_info": {
   "codemirror_mode": {
    "name": "ipython",
    "version": 3
   },
   "file_extension": ".py",
   "mimetype": "text/x-python",
   "name": "python",
   "nbconvert_exporter": "python",
   "pygments_lexer": "ipython3",
   "version": "3.9.7"
  }
 },
 "nbformat": 4,
 "nbformat_minor": 5
}
